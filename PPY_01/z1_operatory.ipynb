{
 "cells": [
  {
   "cell_type": "markdown",
   "source": [
    "#### Funkcja drukująca\n",
    " \n",
    "print"
   ],
   "metadata": {
    "collapsed": false
   },
   "id": "d5d7d79eff7a52d3"
  },
  {
   "cell_type": "code",
   "outputs": [
    {
     "name": "stdout",
     "output_type": "stream",
     "text": [
      "hello\n"
     ]
    }
   ],
   "source": [
    "print(\"hello\")"
   ],
   "metadata": {
    "collapsed": true,
    "ExecuteTime": {
     "end_time": "2024-03-06T15:32:59.638993400Z",
     "start_time": "2024-03-06T15:32:59.636009200Z"
    }
   },
   "id": "initial_id",
   "execution_count": 18
  },
  {
   "cell_type": "markdown",
   "source": [
    "#### Zmienne\n",
    "* int\n",
    "* float\n",
    "* Bool\n",
    "* string (\"\", '', ''' ''')\n",
    "* None\n",
    "\n",
    "* Typ możemy sprawdzać funkcją type\n",
    "* Napisy: konkatenacja, mnożenie"
   ],
   "metadata": {
    "collapsed": false
   },
   "id": "b69d07de0a4f92fa"
  },
  {
   "cell_type": "code",
   "execution_count": 1656,
   "outputs": [
    {
     "data": {
      "text/plain": "NoneType"
     },
     "execution_count": 1656,
     "metadata": {},
     "output_type": "execute_result"
    }
   ],
   "source": [
    "type(None)"
   ],
   "metadata": {
    "collapsed": false,
    "ExecuteTime": {
     "end_time": "2024-03-06T15:38:20.760079500Z",
     "start_time": "2024-03-06T15:38:20.757336200Z"
    }
   }
  },
  {
   "cell_type": "code",
   "outputs": [
    {
     "name": "stdout",
     "output_type": "stream",
     "text": [
      "asdasd\n",
      "asd\n",
      "a\n"
     ]
    }
   ],
   "source": [
    "print('''asdasd\n",
    "asd\n",
    "a''')"
   ],
   "metadata": {
    "collapsed": false,
    "ExecuteTime": {
     "end_time": "2024-03-06T15:34:45.746112400Z",
     "start_time": "2024-03-06T15:34:45.741092900Z"
    }
   },
   "id": "a9de2704e9ed2159",
   "execution_count": 27
  },
  {
   "cell_type": "markdown",
   "source": [
    "#### Operatory arytmetyczne\n",
    "* standardowo\n",
    "* % to modulo\n",
    "* // dzielenie całkowitoliczbowe (obcinana część ułamkowa w kierunku 0)\n",
    "* ale ** to potęgowanie"
   ],
   "metadata": {
    "collapsed": false
   },
   "id": "807d9177bb26f342"
  },
  {
   "cell_type": "code",
   "outputs": [],
   "source": [],
   "metadata": {
    "collapsed": false
   },
   "id": "f567d32602dc1f34"
  },
  {
   "cell_type": "markdown",
   "source": [
    "#### Wczytywanie danych od użytkownika\n",
    "* funkcja input\n",
    "* zwraca napis\n",
    "* jeśli chcemy działać na liczbach to musimy przekonwertować\n"
   ],
   "metadata": {
    "collapsed": false
   },
   "id": "c9664dbc7503e927"
  },
  {
   "cell_type": "code",
   "outputs": [],
   "source": [
    "x = input(\"Podaj liczbę: \")"
   ],
   "metadata": {
    "collapsed": false,
    "ExecuteTime": {
     "end_time": "2024-03-06T15:38:53.287015700Z",
     "start_time": "2024-03-06T15:38:50.961133400Z"
    }
   },
   "id": "75f3a3b0e85d1a49",
   "execution_count": 1657
  },
  {
   "cell_type": "code",
   "outputs": [],
   "source": [
    "x = int(x)"
   ],
   "metadata": {
    "collapsed": false,
    "ExecuteTime": {
     "end_time": "2024-03-06T15:39:41.468208300Z",
     "start_time": "2024-03-06T15:39:41.460720200Z"
    }
   },
   "id": "1a8613c872e08d2",
   "execution_count": 1712
  },
  {
   "cell_type": "code",
   "outputs": [
    {
     "data": {
      "text/plain": "int"
     },
     "execution_count": 1713,
     "metadata": {},
     "output_type": "execute_result"
    }
   ],
   "source": [],
   "metadata": {
    "collapsed": false,
    "ExecuteTime": {
     "end_time": "2024-03-06T15:39:44.314656900Z",
     "start_time": "2024-03-06T15:39:44.311706400Z"
    }
   },
   "id": "cab2c743c681dca7",
   "execution_count": 1713
  },
  {
   "cell_type": "markdown",
   "source": [
    "#### Dołączanie bibliotek"
   ],
   "metadata": {
    "collapsed": false
   },
   "id": "f8bd3362e0586d77"
  },
  {
   "cell_type": "code",
   "outputs": [],
   "source": [
    "import math"
   ],
   "metadata": {
    "collapsed": false,
    "ExecuteTime": {
     "end_time": "2024-03-04T16:29:57.160639Z",
     "start_time": "2024-03-04T16:29:57.157701Z"
    }
   },
   "id": "3c1b0c1ea1929a43",
   "execution_count": 4
  },
  {
   "cell_type": "code",
   "outputs": [
    {
     "data": {
      "text/plain": "3.141592653589793"
     },
     "execution_count": 5,
     "metadata": {},
     "output_type": "execute_result"
    }
   ],
   "source": [
    "math.pi"
   ],
   "metadata": {
    "collapsed": false,
    "ExecuteTime": {
     "end_time": "2024-03-04T16:30:02.591069Z",
     "start_time": "2024-03-04T16:30:02.586245Z"
    }
   },
   "id": "38c0add6339a18c6",
   "execution_count": 5
  },
  {
   "cell_type": "code",
   "outputs": [],
   "source": [],
   "metadata": {
    "collapsed": false
   },
   "id": "3ef7ab53c498d8c9"
  },
  {
   "cell_type": "markdown",
   "source": [
    "### Zadanie 1\n",
    "Wczytać dwie liczby x i y, wydrukować:\n",
    "* x+y\n",
    "* resztę z dzielenia x/y\n",
    "* x do potęgi y"
   ],
   "metadata": {
    "collapsed": false
   },
   "id": "731c509f8c69693e"
  },
  {
   "cell_type": "code",
   "outputs": [
    {
     "name": "stdout",
     "output_type": "stream",
     "text": [
      "x + y = 5\n",
      "reszta z dzialenia x/y to: 2\n",
      "x do potęgi y to: 8\n"
     ]
    }
   ],
   "source": [
    "x = input('Podaj x:')\n",
    "y = input('Podaj y:')\n",
    "x = int(x)\n",
    "y = int(y)\n",
    "\n",
    "print(\"x + y = \" + str(x + y))\n",
    "print('reszta z dzialenia x/y to: ' + str(x%y))\n",
    "print('x do potęgi y to: ' + str(x**y))"
   ],
   "metadata": {
    "collapsed": false,
    "ExecuteTime": {
     "end_time": "2024-03-06T15:44:47.992249Z",
     "start_time": "2024-03-06T15:44:43.942920500Z"
    }
   },
   "id": "80e79f195f11af8b",
   "execution_count": 1715
  },
  {
   "cell_type": "markdown",
   "source": [
    "### Zadanie 2\n",
    "- Przypisać wartości 2 i 3 do zmiennych a i b\n",
    "- podstawić do zmiennej c wynik $\\frac{b}{2a} + \\frac{5}{a + b}(4a - b)^3$\n",
    "- wydrukować c"
   ],
   "metadata": {
    "collapsed": false
   },
   "id": "ed7a3f29631de656"
  },
  {
   "cell_type": "code",
   "outputs": [
    {
     "name": "stdout",
     "output_type": "stream",
     "text": [
      "125.75\n"
     ]
    }
   ],
   "source": [
    "a = input('Podaj a: ')\n",
    "b = input('Podaj b: ')\n",
    "a = int(a)\n",
    "b = int(b)\n",
    "\n",
    "c = (b/(2*a)) + (5/(a+b))*((4*a-b)**3)\n",
    "print(c)"
   ],
   "metadata": {
    "collapsed": false,
    "ExecuteTime": {
     "end_time": "2024-03-06T15:49:10.132539300Z",
     "start_time": "2024-03-06T15:49:08.519670400Z"
    }
   },
   "id": "14aa2f508ccbba23",
   "execution_count": 1717
  },
  {
   "cell_type": "markdown",
   "source": [],
   "metadata": {
    "collapsed": false
   },
   "id": "297958cacfbcefb8"
  },
  {
   "cell_type": "markdown",
   "source": [
    "### Zadanie 3\n",
    "Policzyć i wydrukować objętość i pole powierzchni stożka ściętego - na podstawie wczytanych wartości R, r i h.\n",
    "$$V=\\frac{1}{3} πh(R^2+Rr+r^2)$$\n",
    "$$l=\\sqrt{h^2 + (R-r)^2}$$\n",
    "$$P_b=πl(R+r)$$"
   ],
   "metadata": {
    "collapsed": false
   },
   "id": "88f23a5a26d19cb7"
  },
  {
   "cell_type": "code",
   "outputs": [
    {
     "name": "stdout",
     "output_type": "stream",
     "text": [
      "Objetość to : 84.82300164692441\n",
      "Pole powierzchni to : 113.09733552923255\n"
     ]
    }
   ],
   "source": [
    "import math\n",
    "\n",
    "R = int(input(\"Podaj R: \"))\n",
    "r = int(input(\"Podaj r: \"))\n",
    "h = int(input(\"Podaj h: \"))\n",
    "\n",
    "V = 1/3 * math.pi * h * (R**2 + R*r + r**2)\n",
    "l = math.sqrt(h*h + (R - r)**2)\n",
    "Pb = math.pi * l * (R + r)\n",
    "P = Pb + math.pi * R**2 + math.pi * r**2\n",
    "\n",
    "print(\"Objetość to : \" + str(V))\n",
    "print(\"Pole powierzchni to : \" + str(P))"
   ],
   "metadata": {
    "collapsed": false,
    "ExecuteTime": {
     "end_time": "2024-03-06T15:57:58.507016200Z",
     "start_time": "2024-03-06T15:57:53.415221300Z"
    }
   },
   "id": "db63ce1355a718ed",
   "execution_count": 1723
  },
  {
   "cell_type": "markdown",
   "source": [
    "### Zadanie 4\n",
    "Wczytać współczynniki równania\n",
    "$$ a x^2 + b x + c = 0 $$\n",
    "* policzyć $\\Delta$\n",
    "* [bonus ify] wyznaczyć rozwiązania równania"
   ],
   "metadata": {
    "collapsed": false
   },
   "id": "e0bbf7c9f7560f42"
  },
  {
   "cell_type": "code",
   "outputs": [
    {
     "name": "stdout",
     "output_type": "stream",
     "text": [
      "Delta to: -32\n",
      "Nie istnieją rozwiązania w dziedzinie liczb rzeczywistych\n"
     ]
    }
   ],
   "source": [
    "a = int(input(\"Podaj a: \"))\n",
    "b = int(input(\"Podaj b: \"))\n",
    "c = int(input(\"Podaj c: \"))\n",
    "\n",
    "d = b**2 - (4 * a * c)\n",
    "print(\"Delta to: \" + str(d))\n",
    "\n",
    "if d > 0:\n",
    "    x1 = (-b - math.sqrt(d)) / (2 * a)\n",
    "    x2 = (-b + math.sqrt(d)) / (2 * a)\n",
    "    print(\"Istnieją dwa rozwiązania w dziedzinie liczb rzeczywistych: \" + str(x1) + \" oraz \" + str(x2))\n",
    "\n",
    "elif d == 0:\n",
    "    x = -b / (2 * a)\n",
    "    print(\"Istnieje jedno rozwiązanie w dziedzinie liczb rzeczywistych: \" + str(x))\n",
    "\n",
    "else:\n",
    "    print(\"Nie istnieją rozwiązania w dziedzinie liczb rzeczywistych\")\n"
   ],
   "metadata": {
    "collapsed": false,
    "ExecuteTime": {
     "end_time": "2024-03-06T16:05:43.410974900Z",
     "start_time": "2024-03-06T16:05:40.866521600Z"
    }
   },
   "id": "8656e071feddbb48",
   "execution_count": 1725
  }
 ],
 "metadata": {
  "kernelspec": {
   "display_name": "Python 3",
   "language": "python",
   "name": "python3"
  },
  "language_info": {
   "codemirror_mode": {
    "name": "ipython",
    "version": 2
   },
   "file_extension": ".py",
   "mimetype": "text/x-python",
   "name": "python",
   "nbconvert_exporter": "python",
   "pygments_lexer": "ipython2",
   "version": "2.7.6"
  }
 },
 "nbformat": 4,
 "nbformat_minor": 5
}
